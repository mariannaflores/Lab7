{
 "cells": [
  {
   "cell_type": "code",
   "execution_count": 45,
   "id": "reliable-israeli",
   "metadata": {},
   "outputs": [
    {
     "output_type": "error",
     "ename": "ModuleNotFoundError",
     "evalue": "No module named 'regex'",
     "traceback": [
      "\u001b[1;31m---------------------------------------------------------------------------\u001b[0m",
      "\u001b[1;31mModuleNotFoundError\u001b[0m                       Traceback (most recent call last)",
      "\u001b[1;32m<ipython-input-45-37fc41c34f94>\u001b[0m in \u001b[0;36m<module>\u001b[1;34m\u001b[0m\n\u001b[0;32m      2\u001b[0m \u001b[1;32mimport\u001b[0m \u001b[0mnumpy\u001b[0m \u001b[1;32mas\u001b[0m \u001b[0mnp\u001b[0m\u001b[1;33m\u001b[0m\u001b[1;33m\u001b[0m\u001b[0m\n\u001b[0;32m      3\u001b[0m \u001b[1;32mimport\u001b[0m \u001b[0mjson\u001b[0m\u001b[1;33m\u001b[0m\u001b[1;33m\u001b[0m\u001b[0m\n\u001b[1;32m----> 4\u001b[1;33m \u001b[1;32mimport\u001b[0m \u001b[0mregex\u001b[0m\u001b[1;33m\u001b[0m\u001b[1;33m\u001b[0m\u001b[0m\n\u001b[0m\u001b[0;32m      5\u001b[0m \u001b[1;33m\u001b[0m\u001b[0m\n\u001b[0;32m      6\u001b[0m \u001b[1;32mfrom\u001b[0m \u001b[0msklearn\u001b[0m\u001b[1;33m.\u001b[0m\u001b[0mpreprocessing\u001b[0m \u001b[1;32mimport\u001b[0m \u001b[0mLabelEncoder\u001b[0m\u001b[1;33m\u001b[0m\u001b[1;33m\u001b[0m\u001b[0m\n",
      "\u001b[1;31mModuleNotFoundError\u001b[0m: No module named 'regex'"
     ]
    }
   ],
   "source": [
    "import pandas as pd\n",
    "import numpy as np\n",
    "import json\n",
    "\n",
    "from sklearn.preprocessing import LabelEncoder\n",
    "from sklearn.pipeline import Pipeline\n",
    "from sklearn.preprocessing import StandardScaler\n",
    "from sklearn.impute import SimpleImputer\n",
    "from sklearn.preprocessing import OneHotEncoder\n",
    "\n",
    "import matplotlib.pyplot as plt\n",
    "%matplotlib inline\n",
    "\n",
    "import warnings\n",
    "warnings.filterwarnings('ignore')"
   ]
  },
  {
   "cell_type": "markdown",
   "id": "phantom-industry",
   "metadata": {},
   "source": [
    "### FUNCIONES"
   ]
  },
  {
   "cell_type": "code",
   "execution_count": 78,
   "id": "associate-refrigerator",
   "metadata": {},
   "outputs": [],
   "source": [
    "def cost(Y, X, T):\n",
    "    return(((X @ T.T - Y) ** 2) * ((Y != 0) * 1)).sum()\n",
    "\n",
    "\n",
    "def gradient(Y, X, T):\n",
    "    R = (Y != 0) * 1\n",
    "    hip_error = (X @ T.T - Y) * R\n",
    "\n",
    "    return (\n",
    "        hip_error @ T,\n",
    "        hip_error.T @ X,\n",
    "    )\n",
    "\n",
    "\n",
    "def adam(\n",
    "        Y,\n",
    "        Xo,\n",
    "        To,\n",
    "        fun,\n",
    "        jac,\n",
    "        alpha=0.001,\n",
    "        beta1=0.9,\n",
    "        beta2=0.999,\n",
    "        epsilon=0.0000001,\n",
    "        max_iter=1000\n",
    "):\n",
    "    xm = np.zeros(Xo.shape)\n",
    "    tm = np.zeros(To.shape)\n",
    "\n",
    "    xv = np.zeros(Xo.shape)\n",
    "    tv = np.zeros(To.shape)\n",
    "\n",
    "    X, T, t = Xo, To, 0\n",
    "\n",
    "    while t < max_iter:\n",
    "        t += 1\n",
    "\n",
    "        xg, tg = jac(Y, X, T)\n",
    "\n",
    "        #print(f'{t} \\t loss={fun(Y, X, T).item():,.2f}')\n",
    "\n",
    "        xm = beta1 * xm + (1 - beta1) * xg\n",
    "        tm = beta1 * tm + (1 - beta1) * tg\n",
    "\n",
    "        xv = beta2 * xv + (1 - beta2) * xg * xg\n",
    "        tv = beta2 * tv + (1 - beta2) * tg * tg\n",
    "\n",
    "        xmh = xm / (1 - beta1 ** t)\n",
    "        tmh = tm / (1 - beta1 ** t)\n",
    "\n",
    "        xvh = xv / (1 - beta2 ** t)\n",
    "        tvh = tv / (1 - beta2 ** t)\n",
    "\n",
    "        X -= alpha * xmh / (np.sqrt(xvh) + epsilon)\n",
    "        T -= alpha * tmh / (np.sqrt(tvh) + epsilon)\n",
    "\n",
    "    return X, T"
   ]
  },
  {
   "cell_type": "markdown",
   "id": "published-great",
   "metadata": {},
   "source": [
    "### UPLOAD DATA"
   ]
  },
  {
   "cell_type": "code",
   "execution_count": 3,
   "id": "manufactured-headline",
   "metadata": {},
   "outputs": [
    {
     "output_type": "stream",
     "name": "stdout",
     "text": [
      "(9125, 3) (45466, 24) (100004, 4)\n"
     ]
    }
   ],
   "source": [
    "links = pd.read_csv('/Users/maria/OneDrive/Documentos/mle_laboratorios/Lab7/Lab7/links_small.csv')\n",
    "movies = pd.read_csv('/Users/maria/OneDrive/Documentos/mle_laboratorios/Lab7/Lab7/movies_metadata.csv')\n",
    "ratings = pd.read_csv('/Users/maria/OneDrive/Documentos/mle_laboratorios/Lab7/Lab7/ratings_small.csv')\n",
    "\n",
    "print(links.shape, movies.shape, ratings.shape)"
   ]
  },
  {
   "cell_type": "code",
   "execution_count": 4,
   "id": "spanish-proxy",
   "metadata": {},
   "outputs": [
    {
     "output_type": "stream",
     "name": "stdout",
     "text": [
      "Links:\n",
      " movieId      int64\n",
      "imdbId       int64\n",
      "tmdbId     float64\n",
      "dtype: object \n",
      "Movies:\n",
      " adult                     object\n",
      "belongs_to_collection     object\n",
      "budget                    object\n",
      "genres                    object\n",
      "homepage                  object\n",
      "id                        object\n",
      "imdb_id                   object\n",
      "original_language         object\n",
      "original_title            object\n",
      "overview                  object\n",
      "popularity                object\n",
      "poster_path               object\n",
      "production_companies      object\n",
      "production_countries      object\n",
      "release_date              object\n",
      "revenue                  float64\n",
      "runtime                  float64\n",
      "spoken_languages          object\n",
      "status                    object\n",
      "tagline                   object\n",
      "title                     object\n",
      "video                     object\n",
      "vote_average             float64\n",
      "vote_count               float64\n",
      "dtype: object \n",
      "Ratings:\n",
      " userId         int64\n",
      "movieId        int64\n",
      "rating       float64\n",
      "timestamp      int64\n",
      "dtype: object\n"
     ]
    }
   ],
   "source": [
    "print(\"Links:\\n\", links.dtypes, \"\\nMovies:\\n\", movies.dtypes, \"\\nRatings:\\n\", ratings.dtypes)"
   ]
  },
  {
   "cell_type": "code",
   "execution_count": 5,
   "id": "incident-gibson",
   "metadata": {},
   "outputs": [
    {
     "output_type": "execute_result",
     "data": {
      "text/plain": [
       "      userId  movieId  rating  imdbId  tmdbId\n",
       "0          1       31     2.5  114746    63.0\n",
       "498        7       31     3.0  114746    63.0\n",
       "6059      31       31     4.0  114746    63.0\n",
       "6130      32       31     4.0  114746    63.0\n",
       "6526      36       31     3.0  114746    63.0"
      ],
      "text/html": "<div>\n<style scoped>\n    .dataframe tbody tr th:only-of-type {\n        vertical-align: middle;\n    }\n\n    .dataframe tbody tr th {\n        vertical-align: top;\n    }\n\n    .dataframe thead th {\n        text-align: right;\n    }\n</style>\n<table border=\"1\" class=\"dataframe\">\n  <thead>\n    <tr style=\"text-align: right;\">\n      <th></th>\n      <th>userId</th>\n      <th>movieId</th>\n      <th>rating</th>\n      <th>imdbId</th>\n      <th>tmdbId</th>\n    </tr>\n  </thead>\n  <tbody>\n    <tr>\n      <th>0</th>\n      <td>1</td>\n      <td>31</td>\n      <td>2.5</td>\n      <td>114746</td>\n      <td>63.0</td>\n    </tr>\n    <tr>\n      <th>498</th>\n      <td>7</td>\n      <td>31</td>\n      <td>3.0</td>\n      <td>114746</td>\n      <td>63.0</td>\n    </tr>\n    <tr>\n      <th>6059</th>\n      <td>31</td>\n      <td>31</td>\n      <td>4.0</td>\n      <td>114746</td>\n      <td>63.0</td>\n    </tr>\n    <tr>\n      <th>6130</th>\n      <td>32</td>\n      <td>31</td>\n      <td>4.0</td>\n      <td>114746</td>\n      <td>63.0</td>\n    </tr>\n    <tr>\n      <th>6526</th>\n      <td>36</td>\n      <td>31</td>\n      <td>3.0</td>\n      <td>114746</td>\n      <td>63.0</td>\n    </tr>\n  </tbody>\n</table>\n</div>"
     },
     "metadata": {},
     "execution_count": 5
    }
   ],
   "source": [
    "# Union de movieID en con ratings y usuarios con imbdID y tmbdID en links\n",
    "df = ratings.join(links, rsuffix='_r', how='inner', on = 'movieId')\n",
    "df = df[['userId', 'movieId', 'rating', 'imdbId', 'tmdbId']]\n",
    "df.head()"
   ]
  },
  {
   "cell_type": "code",
   "execution_count": 23,
   "metadata": {},
   "outputs": [
    {
     "output_type": "execute_result",
     "data": {
      "text/plain": [
       "userId   1    2    3    4    5    6    7    8    9    10   ...  662  663  664  \\\n",
       "movieId                                                    ...                  \n",
       "1        NaN  NaN  NaN  NaN  NaN  NaN  3.0  NaN  4.0  NaN  ...  NaN  4.0  3.5   \n",
       "2        NaN  NaN  NaN  NaN  NaN  NaN  NaN  NaN  NaN  NaN  ...  5.0  NaN  NaN   \n",
       "3        NaN  NaN  NaN  NaN  4.0  NaN  NaN  NaN  NaN  NaN  ...  NaN  NaN  NaN   \n",
       "4        NaN  NaN  NaN  NaN  NaN  NaN  NaN  NaN  NaN  NaN  ...  NaN  NaN  NaN   \n",
       "5        NaN  NaN  NaN  NaN  NaN  NaN  NaN  NaN  NaN  NaN  ...  NaN  NaN  NaN   \n",
       "\n",
       "userId   665  666  667  668  669  670  671  \n",
       "movieId                                     \n",
       "1        NaN  NaN  NaN  NaN  NaN  4.0  5.0  \n",
       "2        3.0  NaN  NaN  NaN  NaN  NaN  NaN  \n",
       "3        3.0  NaN  NaN  NaN  NaN  NaN  NaN  \n",
       "4        NaN  NaN  NaN  NaN  NaN  NaN  NaN  \n",
       "5        3.0  NaN  NaN  NaN  NaN  NaN  NaN  \n",
       "\n",
       "[5 rows x 671 columns]"
      ],
      "text/html": "<div>\n<style scoped>\n    .dataframe tbody tr th:only-of-type {\n        vertical-align: middle;\n    }\n\n    .dataframe tbody tr th {\n        vertical-align: top;\n    }\n\n    .dataframe thead th {\n        text-align: right;\n    }\n</style>\n<table border=\"1\" class=\"dataframe\">\n  <thead>\n    <tr style=\"text-align: right;\">\n      <th>userId</th>\n      <th>1</th>\n      <th>2</th>\n      <th>3</th>\n      <th>4</th>\n      <th>5</th>\n      <th>6</th>\n      <th>7</th>\n      <th>8</th>\n      <th>9</th>\n      <th>10</th>\n      <th>...</th>\n      <th>662</th>\n      <th>663</th>\n      <th>664</th>\n      <th>665</th>\n      <th>666</th>\n      <th>667</th>\n      <th>668</th>\n      <th>669</th>\n      <th>670</th>\n      <th>671</th>\n    </tr>\n    <tr>\n      <th>movieId</th>\n      <th></th>\n      <th></th>\n      <th></th>\n      <th></th>\n      <th></th>\n      <th></th>\n      <th></th>\n      <th></th>\n      <th></th>\n      <th></th>\n      <th></th>\n      <th></th>\n      <th></th>\n      <th></th>\n      <th></th>\n      <th></th>\n      <th></th>\n      <th></th>\n      <th></th>\n      <th></th>\n      <th></th>\n    </tr>\n  </thead>\n  <tbody>\n    <tr>\n      <th>1</th>\n      <td>NaN</td>\n      <td>NaN</td>\n      <td>NaN</td>\n      <td>NaN</td>\n      <td>NaN</td>\n      <td>NaN</td>\n      <td>3.0</td>\n      <td>NaN</td>\n      <td>4.0</td>\n      <td>NaN</td>\n      <td>...</td>\n      <td>NaN</td>\n      <td>4.0</td>\n      <td>3.5</td>\n      <td>NaN</td>\n      <td>NaN</td>\n      <td>NaN</td>\n      <td>NaN</td>\n      <td>NaN</td>\n      <td>4.0</td>\n      <td>5.0</td>\n    </tr>\n    <tr>\n      <th>2</th>\n      <td>NaN</td>\n      <td>NaN</td>\n      <td>NaN</td>\n      <td>NaN</td>\n      <td>NaN</td>\n      <td>NaN</td>\n      <td>NaN</td>\n      <td>NaN</td>\n      <td>NaN</td>\n      <td>NaN</td>\n      <td>...</td>\n      <td>5.0</td>\n      <td>NaN</td>\n      <td>NaN</td>\n      <td>3.0</td>\n      <td>NaN</td>\n      <td>NaN</td>\n      <td>NaN</td>\n      <td>NaN</td>\n      <td>NaN</td>\n      <td>NaN</td>\n    </tr>\n    <tr>\n      <th>3</th>\n      <td>NaN</td>\n      <td>NaN</td>\n      <td>NaN</td>\n      <td>NaN</td>\n      <td>4.0</td>\n      <td>NaN</td>\n      <td>NaN</td>\n      <td>NaN</td>\n      <td>NaN</td>\n      <td>NaN</td>\n      <td>...</td>\n      <td>NaN</td>\n      <td>NaN</td>\n      <td>NaN</td>\n      <td>3.0</td>\n      <td>NaN</td>\n      <td>NaN</td>\n      <td>NaN</td>\n      <td>NaN</td>\n      <td>NaN</td>\n      <td>NaN</td>\n    </tr>\n    <tr>\n      <th>4</th>\n      <td>NaN</td>\n      <td>NaN</td>\n      <td>NaN</td>\n      <td>NaN</td>\n      <td>NaN</td>\n      <td>NaN</td>\n      <td>NaN</td>\n      <td>NaN</td>\n      <td>NaN</td>\n      <td>NaN</td>\n      <td>...</td>\n      <td>NaN</td>\n      <td>NaN</td>\n      <td>NaN</td>\n      <td>NaN</td>\n      <td>NaN</td>\n      <td>NaN</td>\n      <td>NaN</td>\n      <td>NaN</td>\n      <td>NaN</td>\n      <td>NaN</td>\n    </tr>\n    <tr>\n      <th>5</th>\n      <td>NaN</td>\n      <td>NaN</td>\n      <td>NaN</td>\n      <td>NaN</td>\n      <td>NaN</td>\n      <td>NaN</td>\n      <td>NaN</td>\n      <td>NaN</td>\n      <td>NaN</td>\n      <td>NaN</td>\n      <td>...</td>\n      <td>NaN</td>\n      <td>NaN</td>\n      <td>NaN</td>\n      <td>3.0</td>\n      <td>NaN</td>\n      <td>NaN</td>\n      <td>NaN</td>\n      <td>NaN</td>\n      <td>NaN</td>\n      <td>NaN</td>\n    </tr>\n  </tbody>\n</table>\n<p>5 rows × 671 columns</p>\n</div>"
     },
     "metadata": {},
     "execution_count": 23
    }
   ],
   "source": [
    "#Prueba de funcion de pivot para unificar las peliculas y usuarios\n",
    "y = df.pivot(index='movieId',columns='userId',values='rating')\n",
    "y.head()"
   ]
  },
  {
   "cell_type": "code",
   "execution_count": 12,
   "id": "directed-wrong",
   "metadata": {},
   "outputs": [
    {
     "output_type": "execute_result",
     "data": {
      "text/plain": [
       "   adult                              belongs_to_collection    budget  \\\n",
       "0  False  {'id': 10194, 'name': 'Toy Story Collection', ...  30000000   \n",
       "1  False                                                NaN  65000000   \n",
       "2  False  {'id': 119050, 'name': 'Grumpy Old Men Collect...         0   \n",
       "3  False                                                NaN  16000000   \n",
       "4  False  {'id': 96871, 'name': 'Father of the Bride Col...         0   \n",
       "\n",
       "                                              genres  \\\n",
       "0  [{'id': 16, 'name': 'Animation'}, {'id': 35, '...   \n",
       "1  [{'id': 12, 'name': 'Adventure'}, {'id': 14, '...   \n",
       "2  [{'id': 10749, 'name': 'Romance'}, {'id': 35, ...   \n",
       "3  [{'id': 35, 'name': 'Comedy'}, {'id': 18, 'nam...   \n",
       "4                     [{'id': 35, 'name': 'Comedy'}]   \n",
       "\n",
       "                               homepage tmdbId     imdbId original_language  \\\n",
       "0  http://toystory.disney.com/toy-story    862  tt0114709                en   \n",
       "1                                   NaN   8844  tt0113497                en   \n",
       "2                                   NaN  15602  tt0113228                en   \n",
       "3                                   NaN  31357  tt0114885                en   \n",
       "4                                   NaN  11862  tt0113041                en   \n",
       "\n",
       "                original_title  \\\n",
       "0                    Toy Story   \n",
       "1                      Jumanji   \n",
       "2             Grumpier Old Men   \n",
       "3            Waiting to Exhale   \n",
       "4  Father of the Bride Part II   \n",
       "\n",
       "                                            overview  ... release_date  \\\n",
       "0  Led by Woody, Andy's toys live happily in his ...  ...   1995-10-30   \n",
       "1  When siblings Judy and Peter discover an encha...  ...   1995-12-15   \n",
       "2  A family wedding reignites the ancient feud be...  ...   1995-12-22   \n",
       "3  Cheated on, mistreated and stepped on, the wom...  ...   1995-12-22   \n",
       "4  Just when George Banks has recovered from his ...  ...   1995-02-10   \n",
       "\n",
       "       revenue runtime                                   spoken_languages  \\\n",
       "0  373554033.0    81.0           [{'iso_639_1': 'en', 'name': 'English'}]   \n",
       "1  262797249.0   104.0  [{'iso_639_1': 'en', 'name': 'English'}, {'iso...   \n",
       "2          0.0   101.0           [{'iso_639_1': 'en', 'name': 'English'}]   \n",
       "3   81452156.0   127.0           [{'iso_639_1': 'en', 'name': 'English'}]   \n",
       "4   76578911.0   106.0           [{'iso_639_1': 'en', 'name': 'English'}]   \n",
       "\n",
       "     status                                            tagline  \\\n",
       "0  Released                                                NaN   \n",
       "1  Released          Roll the dice and unleash the excitement!   \n",
       "2  Released  Still Yelling. Still Fighting. Still Ready for...   \n",
       "3  Released  Friends are the people who let you be yourself...   \n",
       "4  Released  Just When His World Is Back To Normal... He's ...   \n",
       "\n",
       "                         title  video vote_average vote_count  \n",
       "0                    Toy Story  False          7.7     5415.0  \n",
       "1                      Jumanji  False          6.9     2413.0  \n",
       "2             Grumpier Old Men  False          6.5       92.0  \n",
       "3            Waiting to Exhale  False          6.1       34.0  \n",
       "4  Father of the Bride Part II  False          5.7      173.0  \n",
       "\n",
       "[5 rows x 24 columns]"
      ],
      "text/html": "<div>\n<style scoped>\n    .dataframe tbody tr th:only-of-type {\n        vertical-align: middle;\n    }\n\n    .dataframe tbody tr th {\n        vertical-align: top;\n    }\n\n    .dataframe thead th {\n        text-align: right;\n    }\n</style>\n<table border=\"1\" class=\"dataframe\">\n  <thead>\n    <tr style=\"text-align: right;\">\n      <th></th>\n      <th>adult</th>\n      <th>belongs_to_collection</th>\n      <th>budget</th>\n      <th>genres</th>\n      <th>homepage</th>\n      <th>tmdbId</th>\n      <th>imdbId</th>\n      <th>original_language</th>\n      <th>original_title</th>\n      <th>overview</th>\n      <th>...</th>\n      <th>release_date</th>\n      <th>revenue</th>\n      <th>runtime</th>\n      <th>spoken_languages</th>\n      <th>status</th>\n      <th>tagline</th>\n      <th>title</th>\n      <th>video</th>\n      <th>vote_average</th>\n      <th>vote_count</th>\n    </tr>\n  </thead>\n  <tbody>\n    <tr>\n      <th>0</th>\n      <td>False</td>\n      <td>{'id': 10194, 'name': 'Toy Story Collection', ...</td>\n      <td>30000000</td>\n      <td>[{'id': 16, 'name': 'Animation'}, {'id': 35, '...</td>\n      <td>http://toystory.disney.com/toy-story</td>\n      <td>862</td>\n      <td>tt0114709</td>\n      <td>en</td>\n      <td>Toy Story</td>\n      <td>Led by Woody, Andy's toys live happily in his ...</td>\n      <td>...</td>\n      <td>1995-10-30</td>\n      <td>373554033.0</td>\n      <td>81.0</td>\n      <td>[{'iso_639_1': 'en', 'name': 'English'}]</td>\n      <td>Released</td>\n      <td>NaN</td>\n      <td>Toy Story</td>\n      <td>False</td>\n      <td>7.7</td>\n      <td>5415.0</td>\n    </tr>\n    <tr>\n      <th>1</th>\n      <td>False</td>\n      <td>NaN</td>\n      <td>65000000</td>\n      <td>[{'id': 12, 'name': 'Adventure'}, {'id': 14, '...</td>\n      <td>NaN</td>\n      <td>8844</td>\n      <td>tt0113497</td>\n      <td>en</td>\n      <td>Jumanji</td>\n      <td>When siblings Judy and Peter discover an encha...</td>\n      <td>...</td>\n      <td>1995-12-15</td>\n      <td>262797249.0</td>\n      <td>104.0</td>\n      <td>[{'iso_639_1': 'en', 'name': 'English'}, {'iso...</td>\n      <td>Released</td>\n      <td>Roll the dice and unleash the excitement!</td>\n      <td>Jumanji</td>\n      <td>False</td>\n      <td>6.9</td>\n      <td>2413.0</td>\n    </tr>\n    <tr>\n      <th>2</th>\n      <td>False</td>\n      <td>{'id': 119050, 'name': 'Grumpy Old Men Collect...</td>\n      <td>0</td>\n      <td>[{'id': 10749, 'name': 'Romance'}, {'id': 35, ...</td>\n      <td>NaN</td>\n      <td>15602</td>\n      <td>tt0113228</td>\n      <td>en</td>\n      <td>Grumpier Old Men</td>\n      <td>A family wedding reignites the ancient feud be...</td>\n      <td>...</td>\n      <td>1995-12-22</td>\n      <td>0.0</td>\n      <td>101.0</td>\n      <td>[{'iso_639_1': 'en', 'name': 'English'}]</td>\n      <td>Released</td>\n      <td>Still Yelling. Still Fighting. Still Ready for...</td>\n      <td>Grumpier Old Men</td>\n      <td>False</td>\n      <td>6.5</td>\n      <td>92.0</td>\n    </tr>\n    <tr>\n      <th>3</th>\n      <td>False</td>\n      <td>NaN</td>\n      <td>16000000</td>\n      <td>[{'id': 35, 'name': 'Comedy'}, {'id': 18, 'nam...</td>\n      <td>NaN</td>\n      <td>31357</td>\n      <td>tt0114885</td>\n      <td>en</td>\n      <td>Waiting to Exhale</td>\n      <td>Cheated on, mistreated and stepped on, the wom...</td>\n      <td>...</td>\n      <td>1995-12-22</td>\n      <td>81452156.0</td>\n      <td>127.0</td>\n      <td>[{'iso_639_1': 'en', 'name': 'English'}]</td>\n      <td>Released</td>\n      <td>Friends are the people who let you be yourself...</td>\n      <td>Waiting to Exhale</td>\n      <td>False</td>\n      <td>6.1</td>\n      <td>34.0</td>\n    </tr>\n    <tr>\n      <th>4</th>\n      <td>False</td>\n      <td>{'id': 96871, 'name': 'Father of the Bride Col...</td>\n      <td>0</td>\n      <td>[{'id': 35, 'name': 'Comedy'}]</td>\n      <td>NaN</td>\n      <td>11862</td>\n      <td>tt0113041</td>\n      <td>en</td>\n      <td>Father of the Bride Part II</td>\n      <td>Just when George Banks has recovered from his ...</td>\n      <td>...</td>\n      <td>1995-02-10</td>\n      <td>76578911.0</td>\n      <td>106.0</td>\n      <td>[{'iso_639_1': 'en', 'name': 'English'}]</td>\n      <td>Released</td>\n      <td>Just When His World Is Back To Normal... He's ...</td>\n      <td>Father of the Bride Part II</td>\n      <td>False</td>\n      <td>5.7</td>\n      <td>173.0</td>\n    </tr>\n  </tbody>\n</table>\n<p>5 rows × 24 columns</p>\n</div>"
     },
     "metadata": {},
     "execution_count": 12
    }
   ],
   "source": [
    "movies.rename(columns={'imdb_id': 'imdbId'}, inplace=True)\n",
    "movies.rename(columns={'id': 'tmdbId'}, inplace=True)\n",
    "movies.head()"
   ]
  },
  {
   "cell_type": "markdown",
   "id": "sustainable-discharge",
   "metadata": {},
   "source": [
    "### VARIABLES JSON"
   ]
  },
  {
   "cell_type": "code",
   "execution_count": 17,
   "id": "dated-employee",
   "metadata": {},
   "outputs": [
    {
     "output_type": "execute_result",
     "data": {
      "text/plain": [
       "[{'id': 16, 'name': 'Animation'},\n",
       " {'id': 35, 'name': 'Comedy'},\n",
       " {'id': 10751, 'name': 'Family'}]"
      ]
     },
     "metadata": {},
     "execution_count": 17
    }
   ],
   "source": [
    "movies['genres'][0]"
   ]
  },
  {
   "cell_type": "code",
   "execution_count": 14,
   "id": "prescribed-tribute",
   "metadata": {},
   "outputs": [],
   "source": [
    "import json\n",
    "movies['genres'] = movies['genres'].str.replace(\"\\'\",\"\\\"\")\n",
    "unjson = ['genres']\n",
    "\n",
    "def fun1(x):\n",
    "    return json.loads(x)\n",
    "\n",
    "for i in unjson:\n",
    "    movies[i] = movies[i].apply(fun1)\n",
    "\n",
    "\n",
    "def fun2(x):\n",
    "    ls = []\n",
    "    for y in range(len(x[0])):\n",
    "        for k, v in x[0][y].items():\n",
    "            ls.append(str(k)+ \"_\" +str(v))\n",
    "    for z in range(len(ls)):\n",
    "        if ls[z] not in df.columns:\n",
    "            df[ls[z]] = 0\n",
    "            df[ls[z]].iloc[x.name] = 1\n",
    "        else:\n",
    "            df[ls[z]].iloc[x.name] = 1\n",
    "    return\n",
    "\n",
    "for i in unjson:\n",
    "    movies[[i]].apply(fun2, axis=1)"
   ]
  },
  {
   "cell_type": "code",
   "execution_count": 18,
   "id": "incorporate-secondary",
   "metadata": {},
   "outputs": [],
   "source": [
    "a = pd.to_numeric(movies['tmdbId'], errors = 'coerce')\n",
    "movies = movies.assign(tmdbId=a)"
   ]
  },
  {
   "cell_type": "code",
   "execution_count": 19,
   "id": "mechanical-richmond",
   "metadata": {},
   "outputs": [
    {
     "output_type": "execute_result",
     "data": {
      "text/plain": [
       "(24943, 93)"
      ]
     },
     "metadata": {},
     "execution_count": 19
    }
   ],
   "source": [
    "df1 = movies.join(df, rsuffix='_r', how='inner', on = 'tmdbId')\n",
    "df1.shape"
   ]
  },
  {
   "cell_type": "code",
   "execution_count": 20,
   "id": "continental-submission",
   "metadata": {},
   "outputs": [
    {
     "output_type": "execute_result",
     "data": {
      "text/plain": [
       "Index(['adult', 'belongs_to_collection', 'budget', 'genres', 'homepage',\n",
       "       'tmdbId', 'imdbId', 'original_language', 'original_title', 'overview',\n",
       "       'popularity', 'poster_path', 'production_companies',\n",
       "       'production_countries', 'release_date', 'revenue', 'runtime',\n",
       "       'spoken_languages', 'status', 'tagline', 'title', 'video',\n",
       "       'vote_average', 'vote_count', 'userId', 'movieId', 'rating', 'imdbId_r',\n",
       "       'tmdbId_r', 'id_16', 'name_Animation', 'id_35', 'name_Comedy',\n",
       "       'id_10751', 'name_Family', 'id_12', 'name_Adventure', 'id_14',\n",
       "       'name_Fantasy', 'id_10749', 'name_Romance', 'id_18', 'name_Drama',\n",
       "       'id_28', 'name_Action', 'id_80', 'name_Crime', 'id_53', 'name_Thriller',\n",
       "       'id_27', 'name_Horror', 'id_36', 'name_History', 'id_878',\n",
       "       'name_Science Fiction', 'id_9648', 'name_Mystery', 'id_10752',\n",
       "       'name_War', 'id_10769', 'name_Foreign', 'id_10402', 'name_Music',\n",
       "       'id_99', 'name_Documentary', 'id_37', 'name_Western', 'id_10770',\n",
       "       'name_TV Movie', 'name_Carousel Productions', 'id_11176',\n",
       "       'name_Vision View Entertainment', 'id_11602',\n",
       "       'name_Telescene Film Group Productions', 'id_29812', 'name_Aniplex',\n",
       "       'id_2883', 'name_GoHands', 'id_7759', 'name_BROSTA TV', 'id_7760',\n",
       "       'name_Mardock Scramble Production Committee', 'id_7761',\n",
       "       'name_Sentai Filmworks', 'id_33751', 'name_Odyssey Media', 'id_17161',\n",
       "       'name_Pulser Productions', 'id_18012', 'name_Rogue State', 'id_18013',\n",
       "       'name_The Cartel', 'id_23822'],\n",
       "      dtype='object')"
      ]
     },
     "metadata": {},
     "execution_count": 20
    }
   ],
   "source": [
    "df1.columns"
   ]
  },
  {
   "cell_type": "markdown",
   "id": "acceptable-animal",
   "metadata": {},
   "source": [
    "### SEPARACION VARIABLES X Y Y"
   ]
  },
  {
   "cell_type": "code",
   "execution_count": 62,
   "metadata": {},
   "outputs": [
    {
     "output_type": "execute_result",
     "data": {
      "text/plain": [
       "(24943, 32)"
      ]
     },
     "metadata": {},
     "execution_count": 62
    }
   ],
   "source": [
    "df1 = df1.sort_values(by=['movieId'])\n",
    "equis = df1.filter(regex = (\"^name\"))\n",
    "equis.shape"
   ]
  },
  {
   "cell_type": "code",
   "execution_count": 63,
   "metadata": {},
   "outputs": [
    {
     "output_type": "stream",
     "name": "stdout",
     "text": [
      "         name_Action  name_Adventure  name_Animation  name_Aniplex  \\\nmovieId                                                              \n1           0.324675        0.064935        0.077922             0   \n2           0.212121        0.090909        0.030303             0   \n3           0.117647        0.176471        0.058824             0   \n4           0.000000        0.000000        0.000000             0   \n5           0.172414        0.000000        0.137931             0   \n\n         name_BROSTA TV  name_Carousel Productions  name_Comedy  name_Crime  \\\nmovieId                                                                       \n1                     0                        0.0     0.389610    0.090909   \n2                     0                        0.0     0.272727    0.060606   \n3                     0                        0.0     0.352941    0.117647   \n4                     0                        0.0     0.000000    0.000000   \n5                     0                        0.0     0.482759    0.034483   \n\n         name_Documentary  name_Drama  ...  name_Romance  \\\nmovieId                                ...                 \n1                0.038961    0.285714  ...      0.051948   \n2                0.090909    0.424242  ...      0.121212   \n3                0.117647    0.294118  ...      0.117647   \n4                0.000000    0.000000  ...      0.000000   \n5                0.172414    0.206897  ...      0.000000   \n\n         name_Science Fiction  name_Sentai Filmworks  name_TV Movie  \\\nmovieId                                                               \n1                    0.051948                      0       0.012987   \n2                    0.090909                      0       0.000000   \n3                    0.058824                      0       0.058824   \n4                    0.000000                      0       0.000000   \n5                    0.000000                      0       0.000000   \n\n         name_Telescene Film Group Productions  name_The Cartel  \\\nmovieId                                                           \n1                                          0.0                0   \n2                                          0.0                0   \n3                                          0.0                0   \n4                                          0.0                0   \n5                                          0.0                0   \n\n         name_Thriller  name_Vision View Entertainment  name_War  name_Western  \nmovieId                                                                         \n1             0.142857                             0.0  0.025974      0.025974  \n2             0.090909                             0.0  0.000000      0.000000  \n3             0.117647                             0.0  0.058824      0.000000  \n4             0.000000                             0.0  0.000000      0.000000  \n5             0.137931                             0.0  0.000000      0.000000  \n\n[5 rows x 32 columns] (3934, 32)\n"
     ]
    }
   ],
   "source": [
    "equis = pd.concat([df1['movieId'], equis], axis = 1)\n",
    "x = pd.pivot_table(equis, index='movieId',aggfunc='mean')\n",
    "print(x.head(), x.shape)"
   ]
  },
  {
   "cell_type": "code",
   "execution_count": 25,
   "metadata": {},
   "outputs": [],
   "source": [
    "df1['generos']= df1[['name_Animation', 'name_Comedy', 'name_Family', 'name_Adventure', 'name_Fantasy', 'name_Romance', 'name_Drama', 'name_Action', 'name_Crime', 'name_Thriller',\n",
    "       'name_Horror', 'name_History', 'name_Science Fiction', 'name_Mystery', 'name_War', 'name_Foreign', 'name_Music', 'name_Documentary', 'name_Western', \n",
    "       'name_TV Movie', 'name_Carousel Productions', 'name_Vision View Entertainment', 'name_Telescene Film Group Productions', 'name_Aniplex', 'name_GoHands', 'name_BROSTA TV',\n",
    "       'name_Mardock Scramble Production Committee', 'name_Sentai Filmworks', 'name_Odyssey Media', 'name_Pulser Productions', 'name_Rogue State','name_The Cartel']].sum(axis=1)"
   ]
  },
  {
   "cell_type": "code",
   "execution_count": 27,
   "metadata": {},
   "outputs": [
    {
     "output_type": "execute_result",
     "data": {
      "text/plain": [
       "   adult                              belongs_to_collection    budget  \\\n",
       "0  False  {'id': 10194, 'name': 'Toy Story Collection', ...  30000000   \n",
       "1  False                                                NaN  65000000   \n",
       "2  False  {'id': 119050, 'name': 'Grumpy Old Men Collect...         0   \n",
       "3  False                                                NaN  16000000   \n",
       "4  False  {'id': 96871, 'name': 'Father of the Bride Col...         0   \n",
       "\n",
       "                                              genres  \\\n",
       "0  [{'id': 16, 'name': 'Animation'}, {'id': 35, '...   \n",
       "1  [{'id': 12, 'name': 'Adventure'}, {'id': 14, '...   \n",
       "2  [{'id': 10749, 'name': 'Romance'}, {'id': 35, ...   \n",
       "3  [{'id': 35, 'name': 'Comedy'}, {'id': 18, 'nam...   \n",
       "4                     [{'id': 35, 'name': 'Comedy'}]   \n",
       "\n",
       "                               homepage   tmdbId     imdbId original_language  \\\n",
       "0  http://toystory.disney.com/toy-story    862.0  tt0114709                en   \n",
       "1                                   NaN   8844.0  tt0113497                en   \n",
       "2                                   NaN  15602.0  tt0113228                en   \n",
       "3                                   NaN  31357.0  tt0114885                en   \n",
       "4                                   NaN  11862.0  tt0113041                en   \n",
       "\n",
       "                original_title  \\\n",
       "0                    Toy Story   \n",
       "1                      Jumanji   \n",
       "2             Grumpier Old Men   \n",
       "3            Waiting to Exhale   \n",
       "4  Father of the Bride Part II   \n",
       "\n",
       "                                            overview  ... id_33751  \\\n",
       "0  Led by Woody, Andy's toys live happily in his ...  ...        0   \n",
       "1  When siblings Judy and Peter discover an encha...  ...        0   \n",
       "2  A family wedding reignites the ancient feud be...  ...        0   \n",
       "3  Cheated on, mistreated and stepped on, the wom...  ...        0   \n",
       "4  Just when George Banks has recovered from his ...  ...        0   \n",
       "\n",
       "  name_Odyssey Media id_17161 name_Pulser Productions id_18012  \\\n",
       "0                  0        0                       0        0   \n",
       "1                  0        0                       0        0   \n",
       "2                  0        0                       0        0   \n",
       "3                  0        0                       0        0   \n",
       "4                  0        0                       0        0   \n",
       "\n",
       "   name_Rogue State  id_18013 name_The Cartel id_23822 generos  \n",
       "0                 0         0               0        0       1  \n",
       "1                 0         0               0        0       3  \n",
       "2                 0         0               0        0       0  \n",
       "3                 0         0               0        0       3  \n",
       "4                 0         0               0        0       1  \n",
       "\n",
       "[5 rows x 94 columns]"
      ],
      "text/html": "<div>\n<style scoped>\n    .dataframe tbody tr th:only-of-type {\n        vertical-align: middle;\n    }\n\n    .dataframe tbody tr th {\n        vertical-align: top;\n    }\n\n    .dataframe thead th {\n        text-align: right;\n    }\n</style>\n<table border=\"1\" class=\"dataframe\">\n  <thead>\n    <tr style=\"text-align: right;\">\n      <th></th>\n      <th>adult</th>\n      <th>belongs_to_collection</th>\n      <th>budget</th>\n      <th>genres</th>\n      <th>homepage</th>\n      <th>tmdbId</th>\n      <th>imdbId</th>\n      <th>original_language</th>\n      <th>original_title</th>\n      <th>overview</th>\n      <th>...</th>\n      <th>id_33751</th>\n      <th>name_Odyssey Media</th>\n      <th>id_17161</th>\n      <th>name_Pulser Productions</th>\n      <th>id_18012</th>\n      <th>name_Rogue State</th>\n      <th>id_18013</th>\n      <th>name_The Cartel</th>\n      <th>id_23822</th>\n      <th>generos</th>\n    </tr>\n  </thead>\n  <tbody>\n    <tr>\n      <th>0</th>\n      <td>False</td>\n      <td>{'id': 10194, 'name': 'Toy Story Collection', ...</td>\n      <td>30000000</td>\n      <td>[{'id': 16, 'name': 'Animation'}, {'id': 35, '...</td>\n      <td>http://toystory.disney.com/toy-story</td>\n      <td>862.0</td>\n      <td>tt0114709</td>\n      <td>en</td>\n      <td>Toy Story</td>\n      <td>Led by Woody, Andy's toys live happily in his ...</td>\n      <td>...</td>\n      <td>0</td>\n      <td>0</td>\n      <td>0</td>\n      <td>0</td>\n      <td>0</td>\n      <td>0</td>\n      <td>0</td>\n      <td>0</td>\n      <td>0</td>\n      <td>1</td>\n    </tr>\n    <tr>\n      <th>1</th>\n      <td>False</td>\n      <td>NaN</td>\n      <td>65000000</td>\n      <td>[{'id': 12, 'name': 'Adventure'}, {'id': 14, '...</td>\n      <td>NaN</td>\n      <td>8844.0</td>\n      <td>tt0113497</td>\n      <td>en</td>\n      <td>Jumanji</td>\n      <td>When siblings Judy and Peter discover an encha...</td>\n      <td>...</td>\n      <td>0</td>\n      <td>0</td>\n      <td>0</td>\n      <td>0</td>\n      <td>0</td>\n      <td>0</td>\n      <td>0</td>\n      <td>0</td>\n      <td>0</td>\n      <td>3</td>\n    </tr>\n    <tr>\n      <th>2</th>\n      <td>False</td>\n      <td>{'id': 119050, 'name': 'Grumpy Old Men Collect...</td>\n      <td>0</td>\n      <td>[{'id': 10749, 'name': 'Romance'}, {'id': 35, ...</td>\n      <td>NaN</td>\n      <td>15602.0</td>\n      <td>tt0113228</td>\n      <td>en</td>\n      <td>Grumpier Old Men</td>\n      <td>A family wedding reignites the ancient feud be...</td>\n      <td>...</td>\n      <td>0</td>\n      <td>0</td>\n      <td>0</td>\n      <td>0</td>\n      <td>0</td>\n      <td>0</td>\n      <td>0</td>\n      <td>0</td>\n      <td>0</td>\n      <td>0</td>\n    </tr>\n    <tr>\n      <th>3</th>\n      <td>False</td>\n      <td>NaN</td>\n      <td>16000000</td>\n      <td>[{'id': 35, 'name': 'Comedy'}, {'id': 18, 'nam...</td>\n      <td>NaN</td>\n      <td>31357.0</td>\n      <td>tt0114885</td>\n      <td>en</td>\n      <td>Waiting to Exhale</td>\n      <td>Cheated on, mistreated and stepped on, the wom...</td>\n      <td>...</td>\n      <td>0</td>\n      <td>0</td>\n      <td>0</td>\n      <td>0</td>\n      <td>0</td>\n      <td>0</td>\n      <td>0</td>\n      <td>0</td>\n      <td>0</td>\n      <td>3</td>\n    </tr>\n    <tr>\n      <th>4</th>\n      <td>False</td>\n      <td>{'id': 96871, 'name': 'Father of the Bride Col...</td>\n      <td>0</td>\n      <td>[{'id': 35, 'name': 'Comedy'}]</td>\n      <td>NaN</td>\n      <td>11862.0</td>\n      <td>tt0113041</td>\n      <td>en</td>\n      <td>Father of the Bride Part II</td>\n      <td>Just when George Banks has recovered from his ...</td>\n      <td>...</td>\n      <td>0</td>\n      <td>0</td>\n      <td>0</td>\n      <td>0</td>\n      <td>0</td>\n      <td>0</td>\n      <td>0</td>\n      <td>0</td>\n      <td>0</td>\n      <td>1</td>\n    </tr>\n  </tbody>\n</table>\n<p>5 rows × 94 columns</p>\n</div>"
     },
     "metadata": {},
     "execution_count": 27
    }
   ],
   "source": [
    "df1.head()"
   ]
  },
  {
   "cell_type": "code",
   "execution_count": 64,
   "metadata": {},
   "outputs": [
    {
     "output_type": "stream",
     "name": "stdout",
     "text": [
      "userId   1    2    3    4    5    6    7    8    9    10   ...  660  661  664  \\\nmovieId                                                    ...                  \n1        NaN  NaN  NaN  NaN  NaN  NaN  NaN  NaN  4.0  NaN  ...  NaN  NaN  NaN   \n2        NaN  NaN  NaN  NaN  NaN  NaN  NaN  NaN  NaN  NaN  ...  NaN  NaN  NaN   \n3        NaN  NaN  NaN  NaN  NaN  NaN  NaN  NaN  NaN  NaN  ...  NaN  NaN  NaN   \n4        NaN  NaN  NaN  NaN  NaN  NaN  NaN  NaN  NaN  NaN  ...  NaN  NaN  NaN   \n5        NaN  NaN  NaN  NaN  NaN  NaN  NaN  NaN  NaN  NaN  ...  NaN  NaN  NaN   \n\nuserId   665  666  667  668  669  670  671  \nmovieId                                     \n1        NaN  NaN  NaN  NaN  NaN  NaN  NaN  \n2        3.0  NaN  NaN  NaN  NaN  NaN  NaN  \n3        NaN  NaN  NaN  NaN  NaN  NaN  NaN  \n4        NaN  NaN  NaN  NaN  NaN  NaN  NaN  \n5        3.0  NaN  NaN  NaN  NaN  NaN  NaN  \n\n[5 rows x 659 columns] (3934, 659)\n"
     ]
    }
   ],
   "source": [
    "y = df1.pivot_table(index='movieId',columns='userId',values='rating', aggfunc='mean')\n",
    "print(y.head(), y.shape)"
   ]
  },
  {
   "cell_type": "markdown",
   "id": "strange-helicopter",
   "metadata": {},
   "source": [
    "### SPLIT DEL DATASET"
   ]
  },
  {
   "cell_type": "code",
   "execution_count": null,
   "metadata": {},
   "outputs": [],
   "source": [
    "# Separacion train, cross validation y test\n",
    "x_train, x_cv, x_test = np.split(x, \n",
    "                       [int(.3333*len(x)), int(.6666*len(x))])\n",
    "y_train, y_cv, y_test = np.split(y, \n",
    "                       [int(.3333*len(y)), int(.666*len(y))])\n",
    "print(y_train.shape, y_cv.shape, y_train.shape)\n",
    "print(x_train.shape, x_cv.shape, x_train.shape)"
   ]
  },
  {
   "cell_type": "code",
   "execution_count": 72,
   "id": "compatible-planner",
   "metadata": {},
   "outputs": [],
   "source": [
    "m,n = x_train.shape"
   ]
  },
  {
   "cell_type": "markdown",
   "id": "informative-vegetation",
   "metadata": {},
   "source": [
    "### APLICACION ALGORITMO"
   ]
  },
  {
   "cell_type": "code",
   "execution_count": 76,
   "id": "fatal-update",
   "metadata": {},
   "outputs": [],
   "source": [
    "theta_0 = np.random.rand(n, 1311)\n",
    "theta_0.shape\n",
    "x_train = x_train\n",
    "theta_0 = theta_0.T"
   ]
  },
  {
   "cell_type": "code",
   "execution_count": 77,
   "id": "private-cheese",
   "metadata": {},
   "outputs": [
    {
     "output_type": "error",
     "ename": "ValueError",
     "evalue": "can only convert an array of size 1 to a Python scalar",
     "traceback": [
      "\u001b[1;31m---------------------------------------------------------------------------\u001b[0m",
      "\u001b[1;31mValueError\u001b[0m                                Traceback (most recent call last)",
      "\u001b[1;32m<ipython-input-77-b17b6c41aeea>\u001b[0m in \u001b[0;36m<module>\u001b[1;34m\u001b[0m\n\u001b[1;32m----> 1\u001b[1;33m \u001b[0ma\u001b[0m\u001b[1;33m,\u001b[0m \u001b[0mb\u001b[0m \u001b[1;33m=\u001b[0m \u001b[0madam\u001b[0m\u001b[1;33m(\u001b[0m\u001b[0my_train\u001b[0m\u001b[1;33m,\u001b[0m \u001b[0mx_train\u001b[0m\u001b[1;33m,\u001b[0m \u001b[0mtheta_0\u001b[0m\u001b[1;33m,\u001b[0m \u001b[0mcost\u001b[0m\u001b[1;33m,\u001b[0m \u001b[0mgradient\u001b[0m\u001b[1;33m)\u001b[0m\u001b[1;33m\u001b[0m\u001b[1;33m\u001b[0m\u001b[0m\n\u001b[0m",
      "\u001b[1;32m<ipython-input-1-d41103d85f88>\u001b[0m in \u001b[0;36madam\u001b[1;34m(Y, Xo, To, fun, jac, alpha, beta1, beta2, epsilon, max_iter)\u001b[0m\n\u001b[0;32m     38\u001b[0m         \u001b[0mxg\u001b[0m\u001b[1;33m,\u001b[0m \u001b[0mtg\u001b[0m \u001b[1;33m=\u001b[0m \u001b[0mjac\u001b[0m\u001b[1;33m(\u001b[0m\u001b[0mY\u001b[0m\u001b[1;33m,\u001b[0m \u001b[0mX\u001b[0m\u001b[1;33m,\u001b[0m \u001b[0mT\u001b[0m\u001b[1;33m)\u001b[0m\u001b[1;33m\u001b[0m\u001b[1;33m\u001b[0m\u001b[0m\n\u001b[0;32m     39\u001b[0m \u001b[1;33m\u001b[0m\u001b[0m\n\u001b[1;32m---> 40\u001b[1;33m         \u001b[0mprint\u001b[0m\u001b[1;33m(\u001b[0m\u001b[1;34mf'{t} \\t loss={fun(Y, X, T).item():,.2f}'\u001b[0m\u001b[1;33m)\u001b[0m\u001b[1;33m\u001b[0m\u001b[1;33m\u001b[0m\u001b[0m\n\u001b[0m\u001b[0;32m     41\u001b[0m \u001b[1;33m\u001b[0m\u001b[0m\n\u001b[0;32m     42\u001b[0m         \u001b[0mxm\u001b[0m \u001b[1;33m=\u001b[0m \u001b[0mbeta1\u001b[0m \u001b[1;33m*\u001b[0m \u001b[0mxm\u001b[0m \u001b[1;33m+\u001b[0m \u001b[1;33m(\u001b[0m\u001b[1;36m1\u001b[0m \u001b[1;33m-\u001b[0m \u001b[0mbeta1\u001b[0m\u001b[1;33m)\u001b[0m \u001b[1;33m*\u001b[0m \u001b[0mxg\u001b[0m\u001b[1;33m\u001b[0m\u001b[1;33m\u001b[0m\u001b[0m\n",
      "\u001b[1;32m~\\AppData\\Local\\Programs\\Python\\Python37-32\\lib\\site-packages\\pandas\\core\\base.py\u001b[0m in \u001b[0;36mitem\u001b[1;34m(self)\u001b[0m\n\u001b[0;32m    659\u001b[0m             \u001b[1;31m# numpy returns ints instead of datetime64/timedelta64 objects,\u001b[0m\u001b[1;33m\u001b[0m\u001b[1;33m\u001b[0m\u001b[1;33m\u001b[0m\u001b[0m\n\u001b[0;32m    660\u001b[0m             \u001b[1;31m#  which we need to wrap in Timestamp/Timedelta/Period regardless.\u001b[0m\u001b[1;33m\u001b[0m\u001b[1;33m\u001b[0m\u001b[1;33m\u001b[0m\u001b[0m\n\u001b[1;32m--> 661\u001b[1;33m             \u001b[1;32mreturn\u001b[0m \u001b[0mself\u001b[0m\u001b[1;33m.\u001b[0m\u001b[0mvalues\u001b[0m\u001b[1;33m.\u001b[0m\u001b[0mitem\u001b[0m\u001b[1;33m(\u001b[0m\u001b[1;33m)\u001b[0m\u001b[1;33m\u001b[0m\u001b[1;33m\u001b[0m\u001b[0m\n\u001b[0m\u001b[0;32m    662\u001b[0m \u001b[1;33m\u001b[0m\u001b[0m\n\u001b[0;32m    663\u001b[0m         \u001b[1;32mif\u001b[0m \u001b[0mlen\u001b[0m\u001b[1;33m(\u001b[0m\u001b[0mself\u001b[0m\u001b[1;33m)\u001b[0m \u001b[1;33m==\u001b[0m \u001b[1;36m1\u001b[0m\u001b[1;33m:\u001b[0m\u001b[1;33m\u001b[0m\u001b[1;33m\u001b[0m\u001b[0m\n",
      "\u001b[1;31mValueError\u001b[0m: can only convert an array of size 1 to a Python scalar"
     ]
    }
   ],
   "source": [
    "a, b = adam(y_train, x_train, theta_0, cost, gradient)"
   ]
  }
 ],
 "metadata": {
  "kernelspec": {
   "name": "python374jvsc74a57bd0604f81e614146b704b902ca2b0f591cfcd062c180be124fd366dec679873384e",
   "display_name": "Python 3.7.4 32-bit"
  },
  "language_info": {
   "codemirror_mode": {
    "name": "ipython",
    "version": 3
   },
   "file_extension": ".py",
   "mimetype": "text/x-python",
   "name": "python",
   "nbconvert_exporter": "python",
   "pygments_lexer": "ipython3",
   "version": "3.7.4-final"
  },
  "metadata": {
   "interpreter": {
    "hash": "604f81e614146b704b902ca2b0f591cfcd062c180be124fd366dec679873384e"
   }
  }
 },
 "nbformat": 4,
 "nbformat_minor": 5
}